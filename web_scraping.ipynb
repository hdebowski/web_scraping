{
 "cells": [
  {
   "cell_type": "code",
   "execution_count": 4,
   "id": "765a3997",
   "metadata": {},
   "outputs": [],
   "source": [
    "import requests"
   ]
  },
  {
   "cell_type": "code",
   "execution_count": 5,
   "id": "2fa49b3d",
   "metadata": {},
   "outputs": [],
   "source": [
    "from bs4 import BeautifulSoup as bs"
   ]
  },
  {
   "cell_type": "code",
   "execution_count": 6,
   "id": "e9168ae2",
   "metadata": {},
   "outputs": [
    {
     "name": "stdout",
     "output_type": "stream",
     "text": [
      "Input Github User: tomitokko\n"
     ]
    }
   ],
   "source": [
    "github_user = input('Input Github User: ')"
   ]
  },
  {
   "cell_type": "code",
   "execution_count": 7,
   "id": "8defc9d3",
   "metadata": {},
   "outputs": [],
   "source": [
    "url = 'https://github.com/'+github_user"
   ]
  },
  {
   "cell_type": "code",
   "execution_count": 8,
   "id": "bdd88940",
   "metadata": {},
   "outputs": [],
   "source": [
    "r = requests.get(url)"
   ]
  },
  {
   "cell_type": "code",
   "execution_count": 9,
   "id": "25436cc6",
   "metadata": {},
   "outputs": [],
   "source": [
    "soup = bs(r.content, 'html.parser')"
   ]
  },
  {
   "cell_type": "code",
   "execution_count": 10,
   "id": "a726ccda",
   "metadata": {},
   "outputs": [],
   "source": [
    "profile_image = soup.find('img', {'alt' : 'Avatar'})['src']"
   ]
  },
  {
   "cell_type": "code",
   "execution_count": 11,
   "id": "73de2c4f",
   "metadata": {},
   "outputs": [
    {
     "name": "stdout",
     "output_type": "stream",
     "text": [
      "https://avatars.githubusercontent.com/u/56736462?v=4\n"
     ]
    }
   ],
   "source": [
    "print(profile_image)"
   ]
  },
  {
   "cell_type": "code",
   "execution_count": null,
   "id": "9298e937",
   "metadata": {},
   "outputs": [],
   "source": []
  }
 ],
 "metadata": {
  "kernelspec": {
   "display_name": "Python 3 (ipykernel)",
   "language": "python",
   "name": "python3"
  },
  "language_info": {
   "codemirror_mode": {
    "name": "ipython",
    "version": 3
   },
   "file_extension": ".py",
   "mimetype": "text/x-python",
   "name": "python",
   "nbconvert_exporter": "python",
   "pygments_lexer": "ipython3",
   "version": "3.9.7"
  }
 },
 "nbformat": 4,
 "nbformat_minor": 5
}
